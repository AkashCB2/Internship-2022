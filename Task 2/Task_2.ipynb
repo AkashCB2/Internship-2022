{
  "nbformat": 4,
  "nbformat_minor": 0,
  "metadata": {
    "colab": {
      "name": "Task_2.ipynb",
      "provenance": [],
      "collapsed_sections": []
    },
    "kernelspec": {
      "name": "python3",
      "display_name": "Python 3"
    },
    "language_info": {
      "name": "python"
    }
  },
  "cells": [
    {
      "cell_type": "code",
      "execution_count": 4,
      "metadata": {
        "id": "cIR_9asNQaJd"
      },
      "outputs": [],
      "source": [
        "## Import all needed modules\n",
        "\n",
        "import warnings\n",
        "warnings.simplefilter(action='ignore', category=FutureWarning)\n",
        "\n",
        "import matplotlib.pyplot as plt\n",
        "import pandas as pd\n",
        "import statsmodels.api as sm\n",
        "import numpy as np\n",
        "from scipy.stats import entropy"
      ]
    },
    {
      "cell_type": "code",
      "source": [
        "#### Place all data files in same directory and run\n",
        "qrng=[]\n",
        "prng=[]\n",
        "for i in [0,1,2,3]:\n",
        "  set_no=i\n",
        "  for j in ['Q','P']:\n",
        "    for chunk in pd.read_csv('Amp_Data_'+j+'RNG'+str(set_no)+'.bin', chunksize=10**7):\n",
        "      input_=chunk.iloc[:,0]\n",
        "     \n",
        "      tt=sm.tsa.acf(input_,fft=True)\n",
        "     \n",
        "      smol1=min(np.log10(abs(tt)))\n",
        "     \n",
        "      mean1=np.mean(input_)\n",
        "     \n",
        "      ent1=entropy(input_)\n",
        "  \n",
        "    input_=pd.read_csv('RAW_Data_'+j+'RNG'+str(set_no)+'.bin', index_col=False)\n",
        "    tt2=sm.tsa.acf(input_,fft=True)   \n",
        "    \n",
        "    smol2=min(np.log10(abs(tt2)))\n",
        "\n",
        "    mean2=np.mean(input_)[0]\n",
        "    \n",
        "    ent2=entropy(input_)[0]\n",
        "    \n",
        "    #print(\"Diff in correl\",abs(smol2-smol1))\n",
        "    print(\"Ratio of correlation before and after\",(10**smol1)/(10**smol2))\n",
        "    print(\"Ratio of entropy before and after\",abs(ent1/ent2))\n",
        "    print(\"Ratio of mean before and after\", abs(mean1/mean2))\n",
        "    print('************************')\n",
        "    if j=='Q':\n",
        "      qrng.append((10**smol1)/(10**smol2))\n",
        "    elif j=='P':\n",
        "      prng.append((10**smol1)/(10**smol2))\n",
        "  print(\"########################################################################################\")"
      ],
      "metadata": {
        "colab": {
          "base_uri": "https://localhost:8080/"
        },
        "id": "EMJIXv2YQ6nu",
        "outputId": "40e8d21b-8b6d-4235-ff5d-9a264ffa4dc5"
      },
      "execution_count": 5,
      "outputs": [
        {
          "output_type": "stream",
          "name": "stdout",
          "text": [
            "Ratio of correlation before and after 1.4429125065983575\n",
            "Ratio of entropy before and after 0.7887519255942073\n",
            "Ratio of mean before and after 1.000932677156954\n",
            "************************\n",
            "Ratio of correlation before and after 12.888119449036083\n",
            "Ratio of entropy before and after 0.7880818677892517\n",
            "Ratio of mean before and after 0.9917213359272862\n",
            "************************\n",
            "########################################################################################\n",
            "Ratio of correlation before and after 0.43822130066200915\n",
            "Ratio of entropy before and after 0.7884993878673411\n",
            "Ratio of mean before and after 0.9971382477271692\n",
            "************************\n",
            "Ratio of correlation before and after 3.6663769200223424\n",
            "Ratio of entropy before and after 0.7884702714916187\n",
            "Ratio of mean before and after 0.99692980086171\n",
            "************************\n",
            "########################################################################################\n",
            "Ratio of correlation before and after 9.950455312104665\n",
            "Ratio of entropy before and after 0.7882686282893834\n",
            "Ratio of mean before and after 0.9945424445924169\n",
            "************************\n",
            "Ratio of correlation before and after 75.73737530593199\n",
            "Ratio of entropy before and after 0.7880864526924515\n",
            "Ratio of mean before and after 0.9924432627884571\n",
            "************************\n",
            "########################################################################################\n",
            "Ratio of correlation before and after 3.432684376813725\n",
            "Ratio of entropy before and after 0.7880199173823315\n",
            "Ratio of mean before and after 0.9909826481082329\n",
            "************************\n",
            "Ratio of correlation before and after 11.016627660928819\n",
            "Ratio of entropy before and after 0.788657646914118\n",
            "Ratio of mean before and after 0.9991496381967044\n",
            "************************\n",
            "########################################################################################\n"
          ]
        }
      ]
    },
    {
      "cell_type": "code",
      "source": [
        "pip install matplotlib==3.5.2\n",
        "\n",
        "#After this, please restart the runtime."
      ],
      "metadata": {
        "colab": {
          "base_uri": "https://localhost:8080/",
          "height": 540
        },
        "id": "59iW1I-zRiGu",
        "outputId": "64e8f254-5a3c-4787-f6a7-4b618c6de595"
      },
      "execution_count": 4,
      "outputs": [
        {
          "output_type": "stream",
          "name": "stdout",
          "text": [
            "Looking in indexes: https://pypi.org/simple, https://us-python.pkg.dev/colab-wheels/public/simple/\n",
            "Collecting matplotlib==3.5.2\n",
            "  Downloading matplotlib-3.5.2-cp37-cp37m-manylinux_2_5_x86_64.manylinux1_x86_64.whl (11.2 MB)\n",
            "\u001b[K     |████████████████████████████████| 11.2 MB 5.2 MB/s \n",
            "\u001b[?25hCollecting fonttools>=4.22.0\n",
            "  Downloading fonttools-4.34.4-py3-none-any.whl (944 kB)\n",
            "\u001b[K     |████████████████████████████████| 944 kB 61.1 MB/s \n",
            "\u001b[?25hRequirement already satisfied: pyparsing>=2.2.1 in /usr/local/lib/python3.7/dist-packages (from matplotlib==3.5.2) (3.0.9)\n",
            "Requirement already satisfied: numpy>=1.17 in /usr/local/lib/python3.7/dist-packages (from matplotlib==3.5.2) (1.21.6)\n",
            "Requirement already satisfied: packaging>=20.0 in /usr/local/lib/python3.7/dist-packages (from matplotlib==3.5.2) (21.3)\n",
            "Requirement already satisfied: python-dateutil>=2.7 in /usr/local/lib/python3.7/dist-packages (from matplotlib==3.5.2) (2.8.2)\n",
            "Requirement already satisfied: pillow>=6.2.0 in /usr/local/lib/python3.7/dist-packages (from matplotlib==3.5.2) (7.1.2)\n",
            "Requirement already satisfied: cycler>=0.10 in /usr/local/lib/python3.7/dist-packages (from matplotlib==3.5.2) (0.11.0)\n",
            "Requirement already satisfied: kiwisolver>=1.0.1 in /usr/local/lib/python3.7/dist-packages (from matplotlib==3.5.2) (1.4.3)\n",
            "Requirement already satisfied: typing-extensions in /usr/local/lib/python3.7/dist-packages (from kiwisolver>=1.0.1->matplotlib==3.5.2) (4.1.1)\n",
            "Requirement already satisfied: six>=1.5 in /usr/local/lib/python3.7/dist-packages (from python-dateutil>=2.7->matplotlib==3.5.2) (1.15.0)\n",
            "Installing collected packages: fonttools, matplotlib\n",
            "  Attempting uninstall: matplotlib\n",
            "    Found existing installation: matplotlib 3.2.2\n",
            "    Uninstalling matplotlib-3.2.2:\n",
            "      Successfully uninstalled matplotlib-3.2.2\n",
            "\u001b[31mERROR: pip's dependency resolver does not currently take into account all the packages that are installed. This behaviour is the source of the following dependency conflicts.\n",
            "albumentations 0.1.12 requires imgaug<0.2.7,>=0.2.5, but you have imgaug 0.2.9 which is incompatible.\u001b[0m\n",
            "Successfully installed fonttools-4.34.4 matplotlib-3.5.2\n"
          ]
        },
        {
          "output_type": "display_data",
          "data": {
            "application/vnd.colab-display-data+json": {
              "pip_warning": {
                "packages": [
                  "matplotlib",
                  "mpl_toolkits"
                ]
              }
            }
          },
          "metadata": {}
        }
      ]
    },
    {
      "cell_type": "code",
      "source": [
        "############################\n",
        "qrng=[(np.log10(i)) for i in qrng]\n",
        "prng=[np.log10(i) for i in prng]\n",
        "\n",
        "barWidth=0.3\n",
        "\n",
        "# Change in correlation\n",
        "fig, ax = plt.subplots()\n",
        "fig.set_size_inches(18.5, 10.5)\n",
        "# Set position of bar on X axis\n",
        "br1 = np.arange(len(qrng))\n",
        "br2 = [x + barWidth for x in br1]\n",
        "\n",
        "\n",
        "ax.bar(br1, qrng, color ='r', width = barWidth,\n",
        "        edgecolor ='grey', label ='QRNG')\n",
        "ax.bar(br2, prng, color ='g', width = barWidth,\n",
        "        edgecolor ='grey', label ='PRNG')\n",
        "\n",
        "# Adding Xticks\n",
        "\n",
        "ax.set_ylabel('Change in log$_{10}$(Correlation)',  fontsize = 15)\n",
        "ax.set_xticks([r + barWidth for r in range(len(qrng))],\n",
        "        ['Set 1', 'Set 2', 'Set 3','Set 4'])\n",
        " \n",
        "plt.legend(loc='upper center',prop={'size': 15})\n",
        "plt.show()\n",
        "\n",
        "fig.savefig('test2png.png', dpi=100)"
      ],
      "metadata": {
        "colab": {
          "base_uri": "https://localhost:8080/",
          "height": 489
        },
        "id": "zZ893Gm-arz7",
        "outputId": "dedd8bb1-31a4-4161-dc6e-cdbcccb42553"
      },
      "execution_count": 6,
      "outputs": [
        {
          "output_type": "display_data",
          "data": {
            "text/plain": [
              "<Figure size 1332x756 with 1 Axes>"
            ],
            "image/png": "[encoded data removed]"
          },
          "metadata": {
            "needs_background": "light"
          }
        }
      ]
    },
    {
      "cell_type": "code",
      "source": [
        ""
      ],
      "metadata": {
        "id": "xw_zuio9bZlY"
      },
      "execution_count": null,
      "outputs": []
    }
  ]
}