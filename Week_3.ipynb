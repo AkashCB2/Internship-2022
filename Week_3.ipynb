{
 "cells": [
  {
   "cell_type": "code",
   "execution_count": 2,
   "id": "a11812bb",
   "metadata": {},
   "outputs": [],
   "source": [
    "# Importing standard Qiskit libraries\n",
    "import numpy as np\n",
    "import math\n",
    "from qiskit import QuantumCircuit, transpile, Aer, IBMQ\n",
    "from qiskit.tools.jupyter import *\n",
    "from qiskit.visualization import *\n",
    "from ibm_quantum_widgets import *\n",
    "from qiskit.providers.aer import QasmSimulator\n",
    "from qiskit.visualization import plot_histogram"
   ]
  },
  {
   "cell_type": "code",
   "execution_count": 3,
   "id": "0cc26e96",
   "metadata": {},
   "outputs": [
    {
     "name": "stdout",
     "output_type": "stream",
     "text": [
      "\n",
      "Total count for 00 and 11 are: {'100': 2508, '111': 2540, '010': 2506, '001': 2446}\n"
     ]
    },
    {
     "data": {
      "text/html": [
       "<pre style=\"word-wrap: normal;white-space: pre;background: #fff0;line-height: 1.1;font-family: &quot;Courier New&quot;,Courier,monospace\">          ┌───┐           ░ ┌─────┐┌───┐   ┌─┐\n",
       "q_0: ─|0>─┤ H ├──■────■───░─┤ Sdg ├┤ H ├───┤M├\n",
       "          └───┘┌─┴─┐  │   ░ ├─────┤├───┤┌─┐└╥┘\n",
       "q_1: ─|0>──────┤ X ├──┼───░─┤ Sdg ├┤ H ├┤M├─╫─\n",
       "               └───┘┌─┴─┐ ░ └┬───┬┘└┬─┬┘└╥┘ ║ \n",
       "q_2: ─|0>───────────┤ X ├─░──┤ H ├──┤M├──╫──╫─\n",
       "                    └───┘ ░  └───┘  └╥┘  ║  ║ \n",
       "c: 3/════════════════════════════════╩═══╩══╩═\n",
       "                                     2   1  0 </pre>"
      ],
      "text/plain": [
       "          ┌───┐           ░ ┌─────┐┌───┐   ┌─┐\n",
       "q_0: ─|0>─┤ H ├──■────■───░─┤ Sdg ├┤ H ├───┤M├\n",
       "          └───┘┌─┴─┐  │   ░ ├─────┤├───┤┌─┐└╥┘\n",
       "q_1: ─|0>──────┤ X ├──┼───░─┤ Sdg ├┤ H ├┤M├─╫─\n",
       "               └───┘┌─┴─┐ ░ └┬───┬┘└┬─┬┘└╥┘ ║ \n",
       "q_2: ─|0>───────────┤ X ├─░──┤ H ├──┤M├──╫──╫─\n",
       "                    └───┘ ░  └───┘  └╥┘  ║  ║ \n",
       "c: 3/════════════════════════════════╩═══╩══╩═\n",
       "                                     2   1  0 "
      ]
     },
     "execution_count": 3,
     "metadata": {},
     "output_type": "execute_result"
    }
   ],
   "source": [
    "#Call Aer's qasm_simulator\n",
    "simulator = QasmSimulator()\n",
    "\n",
    "#######For 001 == 01\n",
    "\n",
    "# Create a Quantum Circuit acting on the q register\n",
    "circuit = QuantumCircuit(3,3)\n",
    "\n",
    "\n",
    "\n",
    "###Initialize the in zero Q-State\n",
    "circuit.reset(0)\n",
    "circuit.reset(1)\n",
    "circuit.reset(2)\n",
    "\n",
    "#########Following build are \n",
    "# Add a H gate on qubit 0\n",
    "circuit.h(0)\n",
    "\n",
    "# Add a CX (CNOT) gate on control qubit 0 and target qubit 1\n",
    "circuit.cx(0, 1)\n",
    "\n",
    "circuit.cx(0,2)\n",
    "for i in np.arange(3):\n",
    "    circuit.barrier(i)\n",
    "\n",
    "\n",
    "      # Map the quantum measurement to the classical bits\n",
    "for i in np.arange(3):\n",
    "    if i != 2:\n",
    "        circuit.sdg(i)\n",
    "    circuit.h(i)\n",
    "    circuit.measure(i,i)\n",
    "#circuit.measure([0,1], [0,1])\n",
    "#circuit.measure(2,2)\n",
    "\n",
    "# compile the circuit down to low-level QASM instructions\n",
    "# supported by the backend (not needed for simple circuits)\n",
    "compiled_circuit = transpile(circuit, simulator)\n",
    "\n",
    "# Execute the circuit on the qasm simulator\n",
    "job = simulator.run(compiled_circuit, shots=10000,memory=True)\n",
    "\n",
    "# Grab results from the job\n",
    "result = job.result()\n",
    "\n",
    "# Returns counts\n",
    "\n",
    "counts = result.get_counts(compiled_circuit)\n",
    "print(\"\\nTotal count for 00 and 11 are:\",counts)\n",
    "#result.get_memory(compiled_circuit)\n",
    "\n",
    "# Draw the circuit\n",
    "circuit.draw()"
   ]
  },
  {
   "cell_type": "code",
   "execution_count": 4,
   "id": "0f0b60df",
   "metadata": {},
   "outputs": [
    {
     "data": {
      "image/png": "[encoded data removed]",
      "text/plain": [
       "<Figure size 504x360 with 1 Axes>"
      ]
     },
     "execution_count": 4,
     "metadata": {},
     "output_type": "execute_result"
    }
   ],
   "source": [
    "plot_histogram(counts)"
   ]
  },
  {
   "cell_type": "code",
   "execution_count": 5,
   "id": "66de8b6a",
   "metadata": {},
   "outputs": [],
   "source": [
    "########Just for testing\n",
    "counts = result.get_memory(compiled_circuit)\n",
    "round_1=[]\n",
    "for i in counts:\n",
    "    a=int(i[0])^int(i[1])\n",
    "    round_1.append(a)\n",
    "#print(round_1)"
   ]
  },
  {
   "cell_type": "code",
   "execution_count": 6,
   "id": "9e2f479d",
   "metadata": {},
   "outputs": [
    {
     "name": "stdout",
     "output_type": "stream",
     "text": [
      "\n",
      "Total count for 00 and 11 are: {'111': 2434, '010': 2536, '100': 2543, '001': 2487}\n"
     ]
    },
    {
     "data": {
      "text/html": [
       "<pre style=\"word-wrap: normal;white-space: pre;background: #fff0;line-height: 1.1;font-family: &quot;Courier New&quot;,Courier,monospace\">          ┌───┐           ░ ┌─────┐┌───┐     ┌─┐   \n",
       "q_0: ─|0>─┤ H ├──■────■───░─┤ Sdg ├┤ H ├─────┤M├───\n",
       "          └───┘┌─┴─┐  │   ░ └┬───┬┘└┬─┬┘     └╥┘   \n",
       "q_1: ─|0>──────┤ X ├──┼───░──┤ H ├──┤M├───────╫────\n",
       "               └───┘┌─┴─┐ ░ ┌┴───┴┐ └╥┘ ┌───┐ ║ ┌─┐\n",
       "q_2: ─|0>───────────┤ X ├─░─┤ Sdg ├──╫──┤ H ├─╫─┤M├\n",
       "                    └───┘ ░ └─────┘  ║  └───┘ ║ └╥┘\n",
       "c: 3/════════════════════════════════╩════════╩══╩═\n",
       "                                     1        0  2 </pre>"
      ],
      "text/plain": [
       "          ┌───┐           ░ ┌─────┐┌───┐     ┌─┐   \n",
       "q_0: ─|0>─┤ H ├──■────■───░─┤ Sdg ├┤ H ├─────┤M├───\n",
       "          └───┘┌─┴─┐  │   ░ └┬───┬┘└┬─┬┘     └╥┘   \n",
       "q_1: ─|0>──────┤ X ├──┼───░──┤ H ├──┤M├───────╫────\n",
       "               └───┘┌─┴─┐ ░ ┌┴───┴┐ └╥┘ ┌───┐ ║ ┌─┐\n",
       "q_2: ─|0>───────────┤ X ├─░─┤ Sdg ├──╫──┤ H ├─╫─┤M├\n",
       "                    └───┘ ░ └─────┘  ║  └───┘ ║ └╥┘\n",
       "c: 3/════════════════════════════════╩════════╩══╩═\n",
       "                                     1        0  2 "
      ]
     },
     "execution_count": 6,
     "metadata": {},
     "output_type": "execute_result"
    }
   ],
   "source": [
    "###This is for 010 corr to 10\n",
    "####This circuit measure the GHZ state in y-basis\n",
    "####Measurement done in y-basis if the input is 1\n",
    "\n",
    "circuit2=QuantumCircuit(3,3)\n",
    "\n",
    "###Initialize the in zero Q-State\n",
    "circuit2.reset(0)\n",
    "circuit2.reset(1)\n",
    "circuit2.reset(2)\n",
    "\n",
    "#########Following build are \n",
    "# Add a H gate on qubit 0\n",
    "circuit2.h(0)\n",
    "\n",
    "# Add a CX (CNOT) gate on control qubit 0 and target qubit 1\n",
    "circuit2.cx(0, 1)\n",
    "circuit2.cx(0,2)\n",
    "\n",
    "for i in np.arange(3):\n",
    "    circuit2.barrier(i) \n",
    "    \n",
    "# Map the quantum measurement to the classical bits\n",
    "for i in np.arange(3):\n",
    "    ##This parts does the measurment in y-basis\n",
    "    if i != 1:\n",
    "        circuit2.sdg(i)\n",
    "    circuit2.h(i)\n",
    "    circuit2.measure(i,i)\n",
    "    \n",
    "# compile the circuit down to low-level QASM instructions\n",
    "# supported by the backend (not needed for simple circuits)\n",
    "compiled_circuit2 = transpile(circuit2, simulator)\n",
    "\n",
    "# Execute the circuit on the qasm simulator\n",
    "job = simulator.run(compiled_circuit2, shots=10000,memory=True)\n",
    "\n",
    "# Grab results from the job\n",
    "result = job.result()\n",
    "\n",
    "# Returns counts\n",
    "\n",
    "counts2 = result.get_counts(compiled_circuit2)\n",
    "#counts2=result.get_memory(compiled_circuit2)\n",
    "#counts2=np.array(result.get_memory(compiled_circuit2))\n",
    "print(\"\\nTotal count for 00 and 11 are:\",counts2)\n",
    "\n",
    "\n",
    "# Draw the circuit\n",
    "circuit2.draw()"
   ]
  },
  {
   "cell_type": "code",
   "execution_count": 7,
   "id": "97fc8913",
   "metadata": {
    "scrolled": true
   },
   "outputs": [
    {
     "data": {
      "image/png": "[encoded data removed]",
      "text/plain": [
       "<Figure size 504x360 with 1 Axes>"
      ]
     },
     "execution_count": 7,
     "metadata": {},
     "output_type": "execute_result"
    }
   ],
   "source": [
    "plot_histogram(counts2)"
   ]
  },
  {
   "cell_type": "code",
   "execution_count": 6,
   "id": "ec2bba86",
   "metadata": {},
   "outputs": [
    {
     "name": "stdout",
     "output_type": "stream",
     "text": [
      "\n",
      "Total count for 00 and 11 are: {'001': 2475, '111': 2421, '100': 2540, '010': 2564}\n"
     ]
    },
    {
     "data": {
      "text/html": [
       "<pre style=\"word-wrap: normal;white-space: pre;background: #fff0;line-height: 1.1;font-family: &quot;Courier New&quot;,Courier,monospace\">          ┌───┐           ░  ┌───┐      ┌─┐      \n",
       "q_0: ─|0>─┤ H ├──■────■───░──┤ H ├──────┤M├──────\n",
       "          └───┘┌─┴─┐  │   ░ ┌┴───┴┐┌───┐└╥┘┌─┐   \n",
       "q_1: ─|0>──────┤ X ├──┼───░─┤ Sdg ├┤ H ├─╫─┤M├───\n",
       "               └───┘┌─┴─┐ ░ ├─────┤├───┤ ║ └╥┘┌─┐\n",
       "q_2: ─|0>───────────┤ X ├─░─┤ Sdg ├┤ H ├─╫──╫─┤M├\n",
       "                    └───┘ ░ └─────┘└───┘ ║  ║ └╥┘\n",
       "c: 3/════════════════════════════════════╩══╩══╩═\n",
       "                                         0  1  2 </pre>"
      ],
      "text/plain": [
       "          ┌───┐           ░  ┌───┐      ┌─┐      \n",
       "q_0: ─|0>─┤ H ├──■────■───░──┤ H ├──────┤M├──────\n",
       "          └───┘┌─┴─┐  │   ░ ┌┴───┴┐┌───┐└╥┘┌─┐   \n",
       "q_1: ─|0>──────┤ X ├──┼───░─┤ Sdg ├┤ H ├─╫─┤M├───\n",
       "               └───┘┌─┴─┐ ░ ├─────┤├───┤ ║ └╥┘┌─┐\n",
       "q_2: ─|0>───────────┤ X ├─░─┤ Sdg ├┤ H ├─╫──╫─┤M├\n",
       "                    └───┘ ░ └─────┘└───┘ ║  ║ └╥┘\n",
       "c: 3/════════════════════════════════════╩══╩══╩═\n",
       "                                         0  1  2 "
      ]
     },
     "execution_count": 6,
     "metadata": {},
     "output_type": "execute_result"
    }
   ],
   "source": [
    "###This is for 100 corr to 00\n",
    "####This circuit measure the GHZ state in y-basis\n",
    "####Measurement done in y-basis if the input is 1\n",
    "\n",
    "circuit3=QuantumCircuit(3,3)\n",
    "\n",
    "###Initialize the in zero Q-State\n",
    "circuit3.reset(0)\n",
    "circuit3.reset(1)\n",
    "circuit3.reset(2)\n",
    "\n",
    "#########Following build are \n",
    "# Add a H gate on qubit 0\n",
    "circuit3.h(0)\n",
    "\n",
    "# Add a CX (CNOT) gate on control qubit 0 and target qubit 1\n",
    "circuit3.cx(0, 1)\n",
    "circuit3.cx(0,2)\n",
    "\n",
    "for i in np.arange(3):\n",
    "    circuit3.barrier(i)\n",
    "\n",
    "# Map the quantum measurement to the classical bits\n",
    "for i in np.arange(3):\n",
    "    ##This parts does the measurment in y-basis\n",
    "    \n",
    "    \n",
    "    if i != 0:\n",
    "        circuit3.sdg(i)\n",
    "    circuit3.h(i)\n",
    "    circuit3.measure(i,i)\n",
    "    \n",
    "# compile the circuit down to low-level QASM instructions\n",
    "# supported by the backend (not needed for simple circuits)\n",
    "compiled_circuit3 = transpile(circuit3, simulator)\n",
    "\n",
    "# Execute the circuit on the qasm simulator\n",
    "job = simulator.run(compiled_circuit3, shots=10000,memory=True)\n",
    "\n",
    "# Grab results from the job\n",
    "result = job.result()\n",
    "\n",
    "# Returns counts\n",
    "\n",
    "counts3 = result.get_counts(compiled_circuit3)\n",
    "#counts2=result.get_memory(compiled_circuit2)\n",
    "#counts2=np.array(result.get_memory(compiled_circuit2))\n",
    "print(\"\\nTotal count for 00 and 11 are:\",counts3)\n",
    "\n",
    "\n",
    "# Draw the circuit\n",
    "circuit3.draw()"
   ]
  },
  {
   "cell_type": "code",
   "execution_count": 7,
   "id": "8b90ef05",
   "metadata": {},
   "outputs": [
    {
     "data": {
      "image/png": "[encoded data removed]",
      "text/plain": [
       "<Figure size 504x360 with 1 Axes>"
      ]
     },
     "execution_count": 7,
     "metadata": {},
     "output_type": "execute_result"
    }
   ],
   "source": [
    "plot_histogram(counts3)"
   ]
  },
  {
   "cell_type": "code",
   "execution_count": 10,
   "id": "468e2959",
   "metadata": {},
   "outputs": [
    {
     "name": "stdout",
     "output_type": "stream",
     "text": [
      "\n",
      "Total count for 00 and 11 are: {'011': 2528, '101': 2518, '110': 2511, '000': 2443}\n"
     ]
    },
    {
     "data": {
      "text/html": [
       "<pre style=\"word-wrap: normal;white-space: pre;background: #fff0;line-height: 1.1;font-family: &quot;Courier New&quot;,Courier,monospace\">          ┌───┐           ░ ┌───┐   ┌─┐   \n",
       "q_0: ─|0>─┤ H ├──■────■───░─┤ H ├───┤M├───\n",
       "          └───┘┌─┴─┐  │   ░ ├───┤┌─┐└╥┘   \n",
       "q_1: ─|0>──────┤ X ├──┼───░─┤ H ├┤M├─╫────\n",
       "               └───┘┌─┴─┐ ░ ├───┤└╥┘ ║ ┌─┐\n",
       "q_2: ─|0>───────────┤ X ├─░─┤ H ├─╫──╫─┤M├\n",
       "                    └───┘ ░ └───┘ ║  ║ └╥┘\n",
       "c: 3/═════════════════════════════╩══╩══╩═\n",
       "                                  1  0  2 </pre>"
      ],
      "text/plain": [
       "          ┌───┐           ░ ┌───┐   ┌─┐   \n",
       "q_0: ─|0>─┤ H ├──■────■───░─┤ H ├───┤M├───\n",
       "          └───┘┌─┴─┐  │   ░ ├───┤┌─┐└╥┘   \n",
       "q_1: ─|0>──────┤ X ├──┼───░─┤ H ├┤M├─╫────\n",
       "               └───┘┌─┴─┐ ░ ├───┤└╥┘ ║ ┌─┐\n",
       "q_2: ─|0>───────────┤ X ├─░─┤ H ├─╫──╫─┤M├\n",
       "                    └───┘ ░ └───┘ ║  ║ └╥┘\n",
       "c: 3/═════════════════════════════╩══╩══╩═\n",
       "                                  1  0  2 "
      ]
     },
     "execution_count": 10,
     "metadata": {},
     "output_type": "execute_result"
    }
   ],
   "source": [
    "###This is for 111 corr to 11\n",
    "####This circuit measure the GHZ state in y-basis\n",
    "####Measurement done in y-basis if the input is 1\n",
    "\n",
    "circuit4=QuantumCircuit(3,3)\n",
    "\n",
    "###Initialize the in zero Q-State\n",
    "circuit4.reset(0)\n",
    "circuit4.reset(1)\n",
    "circuit4.reset(2)\n",
    "\n",
    "#########Following build are \n",
    "# Add a H gate on qubit 0\n",
    "circuit4.h(0)\n",
    "\n",
    "# Add a CX (CNOT) gate on control qubit 0 and target qubit 1\n",
    "circuit4.cx(0, 1)\n",
    "circuit4.cx(0,2)\n",
    "#circuit4.sdg(1)\n",
    "#circuit4.sdg(2)\n",
    "\n",
    "\n",
    "\n",
    "for i in np.arange(3):\n",
    "    circuit4.barrier(i)\n",
    "    \n",
    "# Map the quantum measurement to the classical bits\n",
    "for i in np.arange(3):\n",
    "    ##This parts does the measurment in y-basis\n",
    "    #circuit4.sdg(i)\n",
    "    circuit4.h(i)\n",
    "    circuit4.measure(i,i)\n",
    "    \n",
    "# compile the circuit down to low-level QASM instructions\n",
    "# supported by the backend (not needed for simple circuits)\n",
    "compiled_circuit4 = transpile(circuit4, simulator)\n",
    "\n",
    "# Execute the circuit on the qasm simulator\n",
    "job = simulator.run(compiled_circuit4, shots=10000,memory=True)\n",
    "\n",
    "# Grab results from the job\n",
    "result = job.result()\n",
    "\n",
    "# Returns counts\n",
    "\n",
    "counts4 = result.get_counts(compiled_circuit4)\n",
    "#counts2=result.get_memory(compiled_circuit2)\n",
    "#counts2=np.array(result.get_memory(compiled_circuit2))\n",
    "print(\"\\nTotal count for 00 and 11 are:\",counts4)\n",
    "\n",
    "#count\n",
    "# Draw the circuit\n",
    "circuit4.draw()"
   ]
  },
  {
   "cell_type": "code",
   "execution_count": 11,
   "id": "2ff5d451",
   "metadata": {},
   "outputs": [
    {
     "data": {
      "image/png": "[encoded data removed]",
      "text/plain": [
       "<Figure size 504x360 with 1 Axes>"
      ]
     },
     "execution_count": 11,
     "metadata": {},
     "output_type": "execute_result"
    }
   ],
   "source": [
    "plot_histogram(counts4)"
   ]
  },
  {
   "cell_type": "code",
   "execution_count": 12,
   "id": "785cbbde",
   "metadata": {},
   "outputs": [
    {
     "name": "stdout",
     "output_type": "stream",
     "text": [
      "2.0\n",
      "[0, 0, 1, 1] [1, 1, 0, 0]\n",
      "[1, 1, 1, 0] [0, 0, 1, 0]\n"
     ]
    }
   ],
   "source": [
    "###########This part takes RAW data and feeds it to round 1\n",
    "bit_len=8\n",
    "\n",
    "input_=[0,0,1,1,1,1,1,1,1,1,0,0,1,1,0,0,0,0,0,0,0,0,0] ##Say this is RAW data\n",
    "###I will modify above to read input from file, this is just for trial.\n",
    "length=np.floor(len(input_)/bit_len)\n",
    "print(length)\n",
    "\n",
    "for i in np.arange(length):\n",
    "    ####This part divides data into 8-bit groups\n",
    "    n=int(bit_len*i)\n",
    "    n_=int(bit_len*(i+1))\n",
    "    byte=np.array(input_[n:n_])\n",
    "    #print(byte)\n",
    "    A=[]\n",
    "    B=[]\n",
    "    for k in np.arange(bit_len/2):\n",
    "        ind=int(2*k)\n",
    "        ind_=int(2*(k+1))\n",
    "        sub_bit=np.array(byte[ind:ind_])\n",
    "        #print(sub_bit)\n",
    "        \n",
    "        \n",
    "        if np.array_equal(sub_bit,np.array([0,1])):\n",
    "            ###Take setting 001\n",
    "            job=simulator.run(compiled_circuit,shots=1,memory=True)\n",
    "            result=job.result()\n",
    "            rez=result.get_memory(compiled_circuit)\n",
    "            A.append(int(rez[0][0]))\n",
    "            B.append(int(rez[0][1]))\n",
    "            \n",
    "        if np.array_equal(sub_bit,np.array([1,0])):\n",
    "            ###Take setting 010\n",
    "            job=simulator.run(compiled_circuit2,shots=1,memory=True)\n",
    "            result=job.result()\n",
    "            rez=result.get_memory(compiled_circuit2)\n",
    "            A.append(int(rez[0][0]))\n",
    "            B.append(int(rez[0][1]))\n",
    "            \n",
    "        if np.array_equal(sub_bit,np.array([0,0])):\n",
    "            ###Take setting 100\n",
    "            job=simulator.run(compiled_circuit3,shots=1,memory=True)\n",
    "            result=job.result()\n",
    "            rez=result.get_memory(compiled_circuit3)\n",
    "            A.append(int(rez[0][0]))\n",
    "            B.append(int(rez[0][1]))\n",
    "            \n",
    "        if np.array_equal(sub_bit,np.array([1,1])):\n",
    "            ###Take setting 111\n",
    "            job=simulator.run(compiled_circuit4,shots=3,memory=True)\n",
    "            result=job.result()\n",
    "            rez=result.get_memory(compiled_circuit4)\n",
    "            A.append(int(rez[0][0]))\n",
    "            B.append(int(rez[0][1]))\n",
    "    print(A,B)"
   ]
  },
  {
   "cell_type": "code",
   "execution_count": 100,
   "id": "7ce6af8b",
   "metadata": {},
   "outputs": [
    {
     "name": "stdout",
     "output_type": "stream",
     "text": [
      "1\n"
     ]
    }
   ],
   "source": [
    "B=['101']\n",
    "print(B[0][0])"
   ]
  },
  {
   "cell_type": "code",
   "execution_count": null,
   "id": "475d4e41",
   "metadata": {},
   "outputs": [],
   "source": []
  }
 ],
 "metadata": {
  "kernelspec": {
   "display_name": "Python 3 (ipykernel)",
   "language": "python",
   "name": "python3"
  },
  "language_info": {
   "codemirror_mode": {
    "name": "ipython",
    "version": 3
   },
   "file_extension": ".py",
   "mimetype": "text/x-python",
   "name": "python",
   "nbconvert_exporter": "python",
   "pygments_lexer": "ipython3",
   "version": "3.10.4"
  }
 },
 "nbformat": 4,
 "nbformat_minor": 5
}
